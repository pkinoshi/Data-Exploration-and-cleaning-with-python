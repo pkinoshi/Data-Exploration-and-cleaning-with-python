{
 "cells": [
  {
   "cell_type": "code",
   "execution_count": 10,
   "id": "cab3ba7a",
   "metadata": {},
   "outputs": [],
   "source": [
    "import pandas as pd\n",
    "import numpy as np\n",
    "import matplotlib.pyplot as plt\n",
    "import seaborn as sns"
   ]
  },
  {
   "cell_type": "code",
   "execution_count": 11,
   "id": "9f137d95",
   "metadata": {},
   "outputs": [
    {
     "data": {
      "text/html": [
       "<div>\n",
       "<style scoped>\n",
       "    .dataframe tbody tr th:only-of-type {\n",
       "        vertical-align: middle;\n",
       "    }\n",
       "\n",
       "    .dataframe tbody tr th {\n",
       "        vertical-align: top;\n",
       "    }\n",
       "\n",
       "    .dataframe thead th {\n",
       "        text-align: right;\n",
       "    }\n",
       "</style>\n",
       "<table border=\"1\" class=\"dataframe\">\n",
       "  <thead>\n",
       "    <tr style=\"text-align: right;\">\n",
       "      <th></th>\n",
       "      <th>product_id</th>\n",
       "      <th>category</th>\n",
       "      <th>animal</th>\n",
       "      <th>size</th>\n",
       "      <th>price</th>\n",
       "      <th>sales</th>\n",
       "      <th>rating</th>\n",
       "      <th>repeat_purchase</th>\n",
       "    </tr>\n",
       "  </thead>\n",
       "  <tbody>\n",
       "    <tr>\n",
       "      <th>0</th>\n",
       "      <td>1</td>\n",
       "      <td>Food</td>\n",
       "      <td>Bird</td>\n",
       "      <td>large</td>\n",
       "      <td>51.1</td>\n",
       "      <td>1860.62</td>\n",
       "      <td>7.0</td>\n",
       "      <td>1</td>\n",
       "    </tr>\n",
       "    <tr>\n",
       "      <th>1</th>\n",
       "      <td>2</td>\n",
       "      <td>Housing</td>\n",
       "      <td>Bird</td>\n",
       "      <td>MEDIUM</td>\n",
       "      <td>35.98</td>\n",
       "      <td>963.60</td>\n",
       "      <td>6.0</td>\n",
       "      <td>0</td>\n",
       "    </tr>\n",
       "    <tr>\n",
       "      <th>2</th>\n",
       "      <td>3</td>\n",
       "      <td>Food</td>\n",
       "      <td>Dog</td>\n",
       "      <td>medium</td>\n",
       "      <td>31.23</td>\n",
       "      <td>898.30</td>\n",
       "      <td>5.0</td>\n",
       "      <td>1</td>\n",
       "    </tr>\n",
       "    <tr>\n",
       "      <th>3</th>\n",
       "      <td>4</td>\n",
       "      <td>Medicine</td>\n",
       "      <td>Cat</td>\n",
       "      <td>small</td>\n",
       "      <td>24.95</td>\n",
       "      <td>982.15</td>\n",
       "      <td>6.0</td>\n",
       "      <td>1</td>\n",
       "    </tr>\n",
       "    <tr>\n",
       "      <th>4</th>\n",
       "      <td>5</td>\n",
       "      <td>Housing</td>\n",
       "      <td>Cat</td>\n",
       "      <td>Small</td>\n",
       "      <td>26.18</td>\n",
       "      <td>832.63</td>\n",
       "      <td>7.0</td>\n",
       "      <td>1</td>\n",
       "    </tr>\n",
       "  </tbody>\n",
       "</table>\n",
       "</div>"
      ],
      "text/plain": [
       "   product_id  category animal    size  price    sales  rating  \\\n",
       "0           1      Food   Bird   large   51.1  1860.62     7.0   \n",
       "1           2   Housing   Bird  MEDIUM  35.98   963.60     6.0   \n",
       "2           3      Food    Dog  medium  31.23   898.30     5.0   \n",
       "3           4  Medicine    Cat   small  24.95   982.15     6.0   \n",
       "4           5   Housing    Cat   Small  26.18   832.63     7.0   \n",
       "\n",
       "   repeat_purchase  \n",
       "0                1  \n",
       "1                0  \n",
       "2                1  \n",
       "3                1  \n",
       "4                1  "
      ]
     },
     "execution_count": 11,
     "metadata": {},
     "output_type": "execute_result"
    }
   ],
   "source": [
    "#Load dataset\n",
    "pet = pd.read_csv('pet_supplies_2212.csv')\n",
    "\n",
    "pet.head()"
   ]
  },
  {
   "cell_type": "code",
   "execution_count": 14,
   "id": "02d2ec8a",
   "metadata": {},
   "outputs": [
    {
     "data": {
      "text/html": [
       "<style type=\"text/css\">\n",
       "#T_8dbfb thead>tr>th {\n",
       "  text-align: left;\n",
       "}\n",
       "#T_8dbfb_row0_col0, #T_8dbfb_row1_col0, #T_8dbfb_row2_col0, #T_8dbfb_row3_col0, #T_8dbfb_row4_col0, #T_8dbfb_row5_col0, #T_8dbfb_row6_col0, #T_8dbfb_row7_col0 {\n",
       "  text-align: left;\n",
       "  font-size: 12px;\n",
       "  vertical-align: middle;\n",
       "  width: 5%;\n",
       "  max-width: 50px;\n",
       "  min-width: 20px;\n",
       "}\n",
       "#T_8dbfb_row0_col1, #T_8dbfb_row1_col1, #T_8dbfb_row2_col1, #T_8dbfb_row3_col1, #T_8dbfb_row4_col1, #T_8dbfb_row5_col1, #T_8dbfb_row6_col1, #T_8dbfb_row7_col1 {\n",
       "  text-align: left;\n",
       "  font-size: 12px;\n",
       "  vertical-align: middle;\n",
       "  width: 15%;\n",
       "  max-width: 200px;\n",
       "  min-width: 100px;\n",
       "  word-break: break-word;\n",
       "}\n",
       "#T_8dbfb_row0_col2, #T_8dbfb_row1_col2, #T_8dbfb_row2_col2, #T_8dbfb_row3_col2, #T_8dbfb_row4_col2, #T_8dbfb_row5_col2, #T_8dbfb_row6_col2, #T_8dbfb_row7_col2 {\n",
       "  text-align: left;\n",
       "  font-size: 12px;\n",
       "  vertical-align: middle;\n",
       "  width: 30%;\n",
       "  min-width: 100px;\n",
       "}\n",
       "#T_8dbfb_row0_col3, #T_8dbfb_row1_col3, #T_8dbfb_row2_col3, #T_8dbfb_row3_col3, #T_8dbfb_row4_col3, #T_8dbfb_row5_col3, #T_8dbfb_row6_col3, #T_8dbfb_row7_col3 {\n",
       "  text-align: left;\n",
       "  font-size: 12px;\n",
       "  vertical-align: middle;\n",
       "  width: 25%;\n",
       "  min-width: 100px;\n",
       "}\n",
       "#T_8dbfb_row0_col4, #T_8dbfb_row1_col4, #T_8dbfb_row2_col4, #T_8dbfb_row3_col4, #T_8dbfb_row4_col4, #T_8dbfb_row5_col4, #T_8dbfb_row6_col4, #T_8dbfb_row7_col4 {\n",
       "  text-align: left;\n",
       "  font-size: 12px;\n",
       "  vertical-align: middle;\n",
       "  width: 20%;\n",
       "  min-width: 150px;\n",
       "}\n",
       "#T_8dbfb_row0_col5, #T_8dbfb_row1_col5, #T_8dbfb_row2_col5, #T_8dbfb_row3_col5, #T_8dbfb_row4_col5, #T_8dbfb_row5_col5, #T_8dbfb_row6_col5, #T_8dbfb_row7_col5 {\n",
       "  text-align: left;\n",
       "  font-size: 12px;\n",
       "  vertical-align: middle;\n",
       "  width: 10%;\n",
       "}\n",
       "</style>\n",
       "<table id=\"T_8dbfb\">\n",
       "  <caption><strong>Data Frame Summary</strong><br>pet<br>Dimensions: 1,500 x 8<br>Duplicates: 0</caption>\n",
       "  <thead>\n",
       "    <tr>\n",
       "      <th id=\"T_8dbfb_level0_col0\" class=\"col_heading level0 col0\" >No</th>\n",
       "      <th id=\"T_8dbfb_level0_col1\" class=\"col_heading level0 col1\" >Variable</th>\n",
       "      <th id=\"T_8dbfb_level0_col2\" class=\"col_heading level0 col2\" >Stats / Values</th>\n",
       "      <th id=\"T_8dbfb_level0_col3\" class=\"col_heading level0 col3\" >Freqs / (% of Valid)</th>\n",
       "      <th id=\"T_8dbfb_level0_col4\" class=\"col_heading level0 col4\" >Graph</th>\n",
       "      <th id=\"T_8dbfb_level0_col5\" class=\"col_heading level0 col5\" >Missing</th>\n",
       "    </tr>\n",
       "  </thead>\n",
       "  <tbody>\n",
       "    <tr>\n",
       "      <td id=\"T_8dbfb_row0_col0\" class=\"data row0 col0\" >1</td>\n",
       "      <td id=\"T_8dbfb_row0_col1\" class=\"data row0 col1\" ><strong>product_id</strong><br>[int64]</td>\n",
       "      <td id=\"T_8dbfb_row0_col2\" class=\"data row0 col2\" >Mean (sd) : 750.5 (433.2)<br>min < med < max:<br>1.0 < 750.5 < 1500.0<br>IQR (CV) : 749.5 (1.7)</td>\n",
       "      <td id=\"T_8dbfb_row0_col3\" class=\"data row0 col3\" >1,500 distinct values</td>\n",
       "      <td id=\"T_8dbfb_row0_col4\" class=\"data row0 col4\" ><img src = \"data:image/png;base64, iVBORw0KGgoAAAANSUhEUgAAAKoAAABGCAYAAABc8A97AAAAOXRFWHRTb2Z0d2FyZQBNYXRwbG90bGliIHZlcnNpb24zLjcuMCwgaHR0cHM6Ly9tYXRwbG90bGliLm9yZy88F64QAAAACXBIWXMAAA9hAAAPYQGoP6dpAAABxklEQVR4nO3XQU7CYBBA4fkbJSCkDSHCAbwBSw7hYT0EJ2DhxhU7EtKUUDEarCcAKTXqS963baczixcSUtM0If132V8fIF3i5rsXUkqDiOhd+f0sIj6vnO06T91Nvbvr/HvTNIdTD8+GmlIaTCaTxzzPx223Ho/H27quH0aj0UuWZR+/OU/dTb37J+Z3u12ZUno6Fet3v6i9PM/Hi8XiUBTFW5vF6/V6vFqt7ufz+fNsNivbzHadp+6m3t11vqqq/nK5HG+3215EXBVqREQURfE2nU5f2ywvy3IQETEcDlvPdp2n7qbe/RPzETE499A/U0IwVCEYqhAMVQiGKgRDFYKhCsFQhWCoQjBUIRiqEAxVCIYqBEMVgqEKwVCFYKhCMFQhGKoQDFUIhioEQxWCoQrBUIVgqEIwVCEYqhAMVQiGKgRDFYKhCsFQhWCoQjBUIRiqEAxVCIYqBEMVgqEKwVCFYKhCMFQhGKoQDFUIhioEQxWCoQrBUIVgqEIwVCEYqhAMVQiGKgRDFYKhCsFQhWCoQjBUIRiqEAxVCIYqBEMVgqEK4eaSl6qq6rf98H6/70dE1HXd32w2d785T91Nvbvr/CV9fQGSljnmc7n3zQAAAABJRU5ErkJggg==\"></img></td>\n",
       "      <td id=\"T_8dbfb_row0_col5\" class=\"data row0 col5\" >0<br>(0.0%)</td>\n",
       "    </tr>\n",
       "    <tr>\n",
       "      <td id=\"T_8dbfb_row1_col0\" class=\"data row1 col0\" >2</td>\n",
       "      <td id=\"T_8dbfb_row1_col1\" class=\"data row1 col1\" ><strong>category</strong><br>[object]</td>\n",
       "      <td id=\"T_8dbfb_row1_col2\" class=\"data row1 col2\" >1. Equipment<br>2. Food<br>3. Toys<br>4. Medicine<br>5. Housing<br>6. Accessory<br>7. -</td>\n",
       "      <td id=\"T_8dbfb_row1_col3\" class=\"data row1 col3\" >370 (24.7%)<br>260 (17.3%)<br>255 (17.0%)<br>237 (15.8%)<br>227 (15.1%)<br>126 (8.4%)<br>25 (1.7%)</td>\n",
       "      <td id=\"T_8dbfb_row1_col4\" class=\"data row1 col4\" ><img src = \"data:image/png;base64, iVBORw0KGgoAAAANSUhEUgAAAJsAAAChCAYAAADQgM1HAAAAOXRFWHRTb2Z0d2FyZQBNYXRwbG90bGliIHZlcnNpb24zLjcuMCwgaHR0cHM6Ly9tYXRwbG90bGliLm9yZy88F64QAAAACXBIWXMAAA9hAAAPYQGoP6dpAAAC70lEQVR4nO3dMWobUQBF0a8gTNJICIMXo0VksVmEdmOMp4hNGqVIbBSRxsJzx1jndO5+cflihnl4dTweBxS+LH0ArofYyIiNjNjIiI3MaozxbYxxs/RB/uPX8Xh8WvoQvJ/17e3t981ms1v6IOemaXpYrVY/BPd5rDebzW6/3z9tt9vnpQ/z4vHx8evhcNjd39/fjDHE9kmsxxhju90+393d/Vz6MGe+LX0A3pcHBDJiIyM2MmIjIzYyYiMjNjJiIyM2MmIjIzYyYiMjNjLrMf580rP0QU59tPPwPtbTND0cDofd+GCf9EzT9DDG+LX0OXg/Pgsns7KIp1LfbG6rK5YOXoxYrls2eDFioR68fKgnXlpe6pIRGxmxkREbGbGRERsZsZERGxmxkREbGbGRERsZsZERG5lsXWUxRbquspi6bjYIZKyryJQ3m1vtymXrKssqknWVZRVjtOsqy6or56UuGbGRERsZsZERGxmxkREbGbGRERsZsZERGxmxkREbmWTwYuzCGOHgxdgFn4WTMXgh4wGBTPEz6ueTMUawrrKq4sWs6yqrKk4V6yqrKsYYHhAIiY2M2MiIjYzYyIiNjNjIiI2M2MiIjYzYyIiNjNjIzLqusqri1OzrKqsqXvgsnIx1FZm5bza3Gq9mHbwYu3BqtsGLsQvn5h68GLvwyktdMmIjIzYyYiMjNjJiIyM2MmIjIzYyYiMjNjJiIyM2MrMNXoxdODfr4MXYhVM+Cydj8ELGAwKZS39G/TzyZhetq6ymuMSb11VWU1zq0nWV1RRv5gGBjNjIiI2M2MiIjYzYyIiNjNjIiI2M2MiIjYzYyIiNzJvXVVZTXOqidZXVFJfwWTgZ6yoy5zebG4vZ/DN4MWRhTl9eBi/7/f7pb3Rz/jtIrtjr4OXv34YszMZLXTJiIyM2MmIjIzYyYiMjNjJiIyM2MmIjIzYyYiMjNjJiIzPb/66Cc6frKqspZmWDQMa6iowHBDJiIyM2MmIj8xtkCGy2+TGs2gAAAABJRU5ErkJggg==\"></img></td>\n",
       "      <td id=\"T_8dbfb_row1_col5\" class=\"data row1 col5\" >0<br>(0.0%)</td>\n",
       "    </tr>\n",
       "    <tr>\n",
       "      <td id=\"T_8dbfb_row2_col0\" class=\"data row2 col0\" >3</td>\n",
       "      <td id=\"T_8dbfb_row2_col1\" class=\"data row2 col1\" ><strong>animal</strong><br>[object]</td>\n",
       "      <td id=\"T_8dbfb_row2_col2\" class=\"data row2 col2\" >1. Cat<br>2. Fish<br>3. Dog<br>4. Bird</td>\n",
       "      <td id=\"T_8dbfb_row2_col3\" class=\"data row2 col3\" >567 (37.8%)<br>369 (24.6%)<br>367 (24.5%)<br>197 (13.1%)</td>\n",
       "      <td id=\"T_8dbfb_row2_col4\" class=\"data row2 col4\" ><img src = \"data:image/png;base64, iVBORw0KGgoAAAANSUhEUgAAAJsAAABcCAYAAAB5jMeAAAAAOXRFWHRTb2Z0d2FyZQBNYXRwbG90bGliIHZlcnNpb24zLjcuMCwgaHR0cHM6Ly9tYXRwbG90bGliLm9yZy88F64QAAAACXBIWXMAAA9hAAAPYQGoP6dpAAAB2UlEQVR4nO3bMWrjUBiF0V+DCJNGwhi8GC8ii51FaDfGWMUkpNEU0yap5PuEdM4KnuFD5gndblmWgoRfrQ/AcYiNmK6qXqvqpfVBQj6XZXlvfYij6s/n89swDKfWB0mY5/nedd0fwbXRD8Nwul6v7+M4frQ+zDM9Ho/f0zSdbrfbS1WJrYG+qmocx4/L5fK39WECXlsf4MhcEIgRGzFiI0ZsxIiNGLERIzZixEaM2IgRGzFiI0ZsxIiNmL7q/+c3rQ/ybEf4jVvXz/N8n6bpVAf4/Gae53tVfbY+x1H5LJyYzpSPFBcEYrb8N+ovb2c2u66yhNqfTa6rLKH2acvrqt2/ijkaFwRixEaM2IgRGzFiI0ZsxIiNGLERIzZixEaM2IgRGzFiI0ZsxGxyyre187COzU75zO72xwaBGFM+YjzZiLGuIsa6ihjrKmK81CVGbMSIjRixESM2YsRGjNiIERsxYiNGbMSIjRixESM2YsRGjHUVMdZVxNggEGNdRcwznmyeSHxp9XWVVRTfWXVdZRXFT56xrtrUrZbt8FKXGLERIzZixEaM2IgRGzFiI0ZsxIiNGLERIzZixEaM2IgRGzGrrqusovjJ6usqqyi+Y4NAjHUVMS4IxPwDs1jYuWJISi0AAAAASUVORK5CYII=\"></img></td>\n",
       "      <td id=\"T_8dbfb_row2_col5\" class=\"data row2 col5\" >0<br>(0.0%)</td>\n",
       "    </tr>\n",
       "    <tr>\n",
       "      <td id=\"T_8dbfb_row3_col0\" class=\"data row3 col0\" >4</td>\n",
       "      <td id=\"T_8dbfb_row3_col1\" class=\"data row3 col1\" ><strong>size</strong><br>[object]</td>\n",
       "      <td id=\"T_8dbfb_row3_col2\" class=\"data row3 col2\" >1. small<br>2. medium<br>3. Small<br>4. SMALL<br>5. Medium<br>6. large<br>7. MEDIUM<br>8. Large<br>9. LARGE</td>\n",
       "      <td id=\"T_8dbfb_row3_col3\" class=\"data row3 col3\" >372 (24.8%)<br>233 (15.5%)<br>225 (15.0%)<br>157 (10.5%)<br>150 (10.0%)<br>122 (8.1%)<br>109 (7.3%)<br>75 (5.0%)<br>57 (3.8%)</td>\n",
       "      <td id=\"T_8dbfb_row3_col4\" class=\"data row3 col4\" ><img src = \"data:image/png;base64, iVBORw0KGgoAAAANSUhEUgAAAJsAAADPCAYAAADifqNtAAAAOXRFWHRTb2Z0d2FyZQBNYXRwbG90bGliIHZlcnNpb24zLjcuMCwgaHR0cHM6Ly9tYXRwbG90bGliLm9yZy88F64QAAAACXBIWXMAAA9hAAAPYQGoP6dpAAADiklEQVR4nO3cQWobWQBF0a9GhM5Ewhi8GC+iF9uL0G6MsQadkIkyCA7GOI6qVHVl0ues4A8uX1RRT5vT6TSg8Ne1D8D/h9jIiI2M2MiIjYzYyIiNzGaM8XmM8enaB3nDt9Pp9OXah2A529vb2392u93NtQ/y2vF4fNxsNv8K7s+x3e12N/f391/2+/3Xax/m2dPT09+Hw+Hm4eHh0xhDbH+I7Rhj7Pf7r3d3d/9d+zCvfL72AViWBwQyYiMjNjJiIyM2MmIjIzYyYiMjNjJiIyM2MmIjIzYy2zF+fNJz7YO89NHOwzK2x+Px8XA43IwP9knP8Xh8HGN8u/Y5WI7Pwsls/NcHleJmc0MxxggGL4YrPFt18GK4wkvF4OVDPeVyPV7qkhEbGbGRERsZsZERGxmxkREbGbGRERsZsZERGxmxkVl18GK4wkurD14MV3jms3AyBi9kPCCQWftn1E8oP626rrKs4qXV1lWWVby29rrKsoqfPCCQERsZsZERGxmxkREbGbGRERsZsZERGxmxkREbGbGRWW1dZVnFa6uuqyyreMln4WSsq8gscbO5vTjLxYMXoxbOddHgxaiFKZYYvBi1cBYvdcmIjYzYyIiNjNjIiI2M2MiIjYzYyIiNjNjIiI2M2MhcNHgxamGKiwcvRi2cy2fhZAxeyLjZyBi8kDF4IWPwQsZLXTJiIyM2MmIjIzYyYiMjNjJiIyM2MmIjIzYyYiMjNjJiI2NdRca6iowNAhnrKjJzbza3GZPNWldZVDHH5HWVRRVzzV1XWVQxmZe6ZMRGRmxkxEZGbGTERkZsZMRGRmxkxEZGbGTERkZsZCYPXoxcmGvW4MXIhTl8Fk7G4IXM1JvNjcZskwYvhi5c4uzBi6ELl5o6eDF0YTYvdcmIjYzYyIiNjNjIiI2M2MiIjYzYyIiNjNjIiI2M2MiIjczZ6yqrKi41aV1lVcUlbBDIWFeROedmc5uxiN+uqyyqWMq76yqLKpZ0zrrKoopFeKlLRmxkxEZGbGTERkZsZMRGRmxkxEZGbGTERkZsZMRG5t3Bi5ELS/rt4MXIhaX4LJyMwQuZ9242NxqL+uXgxdCFpb05eDF0YQ3vDV4MXViUl7pkxEZGbGTERkZsZMRGRmxkxEZGbGTERkZsZMRGRmxkxEbmzXWVVRVr+OW6yqqKpdkgkLGuIuMBgYzYyIiNjNjIiI2M2Mh8B+ZY4/M3k/KHAAAAAElFTkSuQmCC\"></img></td>\n",
       "      <td id=\"T_8dbfb_row3_col5\" class=\"data row3 col5\" >0<br>(0.0%)</td>\n",
       "    </tr>\n",
       "    <tr>\n",
       "      <td id=\"T_8dbfb_row4_col0\" class=\"data row4 col0\" >5</td>\n",
       "      <td id=\"T_8dbfb_row4_col1\" class=\"data row4 col1\" ><strong>price</strong><br>[object]</td>\n",
       "      <td id=\"T_8dbfb_row4_col2\" class=\"data row4 col2\" >1. unlisted<br>2. 22.98<br>3. 28<br>4. 28.03<br>5. 19.94<br>6. 27.97<br>7. 27.99<br>8. 27.98<br>9. 27.9<br>10. 22.99<br>11. other</td>\n",
       "      <td id=\"T_8dbfb_row4_col3\" class=\"data row4 col3\" >150 (10.0%)<br>13 (0.9%)<br>10 (0.7%)<br>8 (0.5%)<br>8 (0.5%)<br>8 (0.5%)<br>8 (0.5%)<br>7 (0.5%)<br>6 (0.4%)<br>6 (0.4%)<br>1,276 (85.1%)</td>\n",
       "      <td id=\"T_8dbfb_row4_col4\" class=\"data row4 col4\" ><img src = \"data:image/png;base64, iVBORw0KGgoAAAANSUhEUgAAAJsAAAD+CAYAAAAtWHdlAAAAOXRFWHRTb2Z0d2FyZQBNYXRwbG90bGliIHZlcnNpb24zLjcuMCwgaHR0cHM6Ly9tYXRwbG90bGliLm9yZy88F64QAAAACXBIWXMAAA9hAAAPYQGoP6dpAAAD2ElEQVR4nO3cMW7bWABF0a9AMOKGhCBAi9EivNhZBHcjGGIRG240RexmigniSNewc04vQsUFRRP/eXO5XAYUvn30F+DvITYyYiMjNjJiIyM2MmIjIzYyYiOzGWPcjzHu/uAaL5fL5elK34cvbLvf7x+madq99wLruj5uNpt/BMevbKdp2h2Px6d5np9/98Pn8/n7siy70+l0N8YQG/9rO8YY8zw/Hw6HH++8xv0Vvw9fmD8QyIiNjNjIiI2M2MiIjYzYyIiNjNjIiI2M2MiIjYzYyIiNzHaMn+fS3vPh936Ov9N2XdfHZVl2453n0tZ1fRxjvFz3a/EV2SCQ2fiXWVTe7mzD3Ylb2+73+4cxxrCQ4ta+TdO0e53y/clzG/yS92xkxEZGbGTERkZsZMRGRmxkxEZGbGTERkZsZMRGRmxkxEZGbGS2r4OVMYxWuDHHwskYvJBxZyNj8ELG4IWMVx9kxEZGbGTERkZsZMRGRmxkxEZGbGTERkZsZMRGRmxkxEZGbGQMXsg4Fk7G4IWMZzYyfkbJWFeRsa4i45mNjNjIiI2M2MiIjYzYyIiNjNjIiI2M2MiIjYzYyIiNjNjIiI2MdRUZx8LJWFeRcWcjY/BCxuCFjFcfZMRGRmxkxEZGbGTERkZsZMRGRmxkxEZGbGTERkZsZMRGRmxkDF7IOBZOxuCFjDsbGYMXMgYvZLz6ICM2MmIjIzYyYiMjNjJiIyM2MmIjIzYyYiMjNjJiIyM2MmIjIzYy1lVkbBDIWFeRcWcjY11FxrqKjFcfZMRGRmxkxEZGbGTERkZsZMRGRmxkxEZGbGTERkZsZMRGRmxkDF7IOBZOxuCFjDsbGYMXMgYvZLz6ICM2MmIjIzYyYiMjNjJiIyM2MmIjIzYyYiMjNjJiIyM2MmIjY/BCxrFwMgYvZDyzkfEzSsa6iox1FRnPbGTERkZsZMRGRmxkxEZGbGTERkZsZMRGRmxkxEZGbGTERkZsZKyryDgWTsa6iow7GxmDFzIGL2S8+iAjNjJiIyM2MmIjIzYyYiMjNjJiIyM2MmIjIzYyYiMjNjJiI2PwQsaxcDIGL2Te7myOhPPm5Va/ctv9fv/wukGAsa7r463GT9tpmnbH4/Fpnufna1+cz+V8Pn9flmV3Op3uxhjXj22MMeZ5fj4cDj+ufXE+pftbXdh7NjJiIyM2MmIjIzYyYiMjNjJiIyM2MmIjIzYyYiMjNjLbMX4eLfnoL8LHu3UH23VdH5dl2Y0bHi3h83gdQN1k/ORYOP91s2PhBi9k/IFARmxkxEZGbGTERkZsZMRGRmxkxEbmX4IhMAXeYAAiAAAAAElFTkSuQmCC\"></img></td>\n",
       "      <td id=\"T_8dbfb_row4_col5\" class=\"data row4 col5\" >0<br>(0.0%)</td>\n",
       "    </tr>\n",
       "    <tr>\n",
       "      <td id=\"T_8dbfb_row5_col0\" class=\"data row5 col0\" >6</td>\n",
       "      <td id=\"T_8dbfb_row5_col1\" class=\"data row5 col1\" ><strong>sales</strong><br>[float64]</td>\n",
       "      <td id=\"T_8dbfb_row5_col2\" class=\"data row5 col2\" >Mean (sd) : 996.6 (324.0)<br>min < med < max:<br>286.9 < 1000.8 < 2256.0<br>IQR (CV) : 410.7 (3.1)</td>\n",
       "      <td id=\"T_8dbfb_row5_col3\" class=\"data row5 col3\" >1,476 distinct values</td>\n",
       "      <td id=\"T_8dbfb_row5_col4\" class=\"data row5 col4\" ><img src = \"data:image/png;base64, iVBORw0KGgoAAAANSUhEUgAAAKoAAABGCAYAAABc8A97AAAAOXRFWHRTb2Z0d2FyZQBNYXRwbG90bGliIHZlcnNpb24zLjcuMCwgaHR0cHM6Ly9tYXRwbG90bGliLm9yZy88F64QAAAACXBIWXMAAA9hAAAPYQGoP6dpAAACoUlEQVR4nO3dvY7aQBRA4TuwIPMTI4QCHU3KSClc8hB52DxCCp6AYptUNAgJISOctTDGKaJsGpLFHry+F52vn8XFEWK842tXFIUA2rWavgDgFk9NX0BdnHM9Eel6/IlTURQv97oe+HnIUJ1zvclk8jUMw3HVv3E4HPbOuW/EqsNDhioi3TAMx4vF4mU0GqVlF8dxHCyXy/Fut+uKCKEq8KihiojIaDRKp9Ppz4rLe3e9GHhhMwUTCBUmECpMIFSYQKgwgVBhAqHCBEKFCYQKEwgVJhAqTFD9v36Po3rh5XLp3Pt60By1ofoc1cuyLMjz/HOapt9FpOqhFCiiNlTxOKq3Xq/Hq9Wqfz6f23VdHN6X5lBFpNpRvf1+zxG9B8NmCiYQKkwgVJhAqDCBUGECocIEQoUJhAoTCBUmECpMIFSYQKgwgVBhAqHCBPXH/CzyHCLMAOErCPXOfIcIM0D4OkK9v8pPJjBA+N8ItSYeQ4R5OuEKNlMwgVBhAqHChFp/o3repml0iESe5x0RCZ1zZZcy/KIGtYXqe5umySESSZJ0siz7Mp/P2+12u9TOneEX9ajzG9XrXU9NDpE4nU5PQRD0oyhKZ7PZvsxahl/Uo/bbU1Vv02gYIjEYDBh+oQSbKZhAqDCBUGECocIEQoUJhAoTCBUmECpMIFSYQKgwgVBhAqHCBEKFCW+enuLtedDgv6Hy9jxo8dY3Km/Pgwo3HZzm7XloGpspmMCkFGU8nn79oyUil4pr1Q5oI1RFfJ5+FfkdeZIkn4bD4Y9Wq5WVXa95QBuhKuLz9KvI6wb2YxRFz2XXax/QRqgKVXn6VeTvBrbqelE8oI1Q8Urz7+ObQo3jOCj7qcfjMRARSZIk2G63/fdcb/Wzm7zuzWbzQfPv418UrGSGoJJTGQAAAABJRU5ErkJggg==\"></img></td>\n",
       "      <td id=\"T_8dbfb_row5_col5\" class=\"data row5 col5\" >0<br>(0.0%)</td>\n",
       "    </tr>\n",
       "    <tr>\n",
       "      <td id=\"T_8dbfb_row6_col0\" class=\"data row6 col0\" >7</td>\n",
       "      <td id=\"T_8dbfb_row6_col1\" class=\"data row6 col1\" ><strong>rating</strong><br>[float64]</td>\n",
       "      <td id=\"T_8dbfb_row6_col2\" class=\"data row6 col2\" >1. 5.0<br>2. 6.0<br>3. 4.0<br>4. 3.0<br>5. nan<br>6. 7.0<br>7. 8.0<br>8. 2.0<br>9. 9.0<br>10. 1.0</td>\n",
       "      <td id=\"T_8dbfb_row6_col3\" class=\"data row6 col3\" >304 (20.3%)<br>299 (19.9%)<br>283 (18.9%)<br>190 (12.7%)<br>150 (10.0%)<br>143 (9.5%)<br>61 (4.1%)<br>43 (2.9%)<br>15 (1.0%)<br>12 (0.8%)</td>\n",
       "      <td id=\"T_8dbfb_row6_col4\" class=\"data row6 col4\" ><img src = \"data:image/png;base64, iVBORw0KGgoAAAANSUhEUgAAAJsAAADnCAYAAAAJgSQ2AAAAOXRFWHRTb2Z0d2FyZQBNYXRwbG90bGliIHZlcnNpb24zLjcuMCwgaHR0cHM6Ly9tYXRwbG90bGliLm9yZy88F64QAAAACXBIWXMAAA9hAAAPYQGoP6dpAAAD+UlEQVR4nO3dQW5aVwCG0WsLpfUEhJC8DC/Ai8hiuwgW4H1YlhnUaSbuoEnVKNgFw/ueFM7ZwGPw6RKe7u9cvb6+Dihcz/0BuBxiIyM2MmIjIzYyYiMjNjJiIyM2MldjjJsxxqeZnv/19fX1ZaZnE1tsNpvPy+VyPcfDd7vd09XV1R+CuwyL5XK5vr+/f1mtVl/KBz8/P/++3W7Xj4+Pn8YYYrsAizHGWK1WX25vb/+c4fk3MzyTmfiBQEZsZMRGRmxkxEZGbGTERkZsZMRGRmxkxEZGbGTERmYxxj/XfeoHz/FM5rXY7XZP2+12PWa47rPb7Z7GGF/r5zIP18LJXPkrRlScbGQMXsgYvJAxeCHjpS4ZsZERGxmxkREbGbGRERsZsZERGxmxkREbGbGRERsZgxcyBi9kXAsnY/BCZq6TzYl2gWYZvBi6XKZ88GLocrnmGrwYulwgL3XJiI2M2MiIjYzYyIiNjNjIiI2M2MiIjYzYyIiNjNjIiI1Mvq6yqrpcs6yrrKoukw0CGesqMlOcbE4t9jr7uspyirecdV1lOcV7plhXWU6xl5e6ZMRGRmxkxEZGbGTERkZsZMRGRmxkxEZGbGTERkZsZM46eDFm4T1nH7wYs/AW18LJGLyQOcfJ5iTjICcPXgxcONRJgxcDF45xjsGLgQsH8VKXjNjIiI2M2MiIjYzYyIiNjNjIiI2M2MiIjYzYyIiNzEmDFwMXjnHy4MXAhUO5Fk7G4IWMHwhkTv0a9RXKwU5aV1lWcYwPr6ssqzjWqesqyyoO5gcCGbGRERsZsZERGxmxkREbGbGRERsZsZERGxmxkREbmQ+vqyyrONZJ6yrLKo7hWjgZ6yoy751sTi3O6s3BizEL57Z38GLMwhTeG7wYs3BWXuqSERsZsZERGxmxkREbGbGRERsZsZERGxmxkREbGbGR2Tt4MWZhCm8OXoxZODfXwskYvJDxA4HMvq9RX59M4qd1lVUVU/lhXWVVxZT2rausqpiEHwhkxEZGbGTERkZsZMRGRmxkxEZGbGTERkZsZMRGRmxkflhXWVUxpZ/WVVZVTMW1cDLWVWT+e7I50ZjUv4MXQxemdr1cLtd3d3fj28Lqo/8VJPyv6zHGuLm5+WvuD8Kvz0tdMmIjIzYyYiMjNjJiIyM2MmIjIzYyYiMjNjJiIyM2MtdjjPHy8vLb3B+EX9/1brd7enh4MHRhcq6FkzF4IfP9ZBtONaa22Gw2n8cYw9iFqV0vl8u1sQsF79nIiI2M2MiIjYzYyIiNjNjIiI2M2MiIjYzYyIiNjNjIiI2M2MiIjczi26pqDMsqJmaDQMa6iox/s5ERGxmxkREbGbGRERsZsZH5G8nQ6msbZ2lWAAAAAElFTkSuQmCC\"></img></td>\n",
       "      <td id=\"T_8dbfb_row6_col5\" class=\"data row6 col5\" >150<br>(10.0%)</td>\n",
       "    </tr>\n",
       "    <tr>\n",
       "      <td id=\"T_8dbfb_row7_col0\" class=\"data row7 col0\" >8</td>\n",
       "      <td id=\"T_8dbfb_row7_col1\" class=\"data row7 col1\" ><strong>repeat_purchase</strong><br>[int64]</td>\n",
       "      <td id=\"T_8dbfb_row7_col2\" class=\"data row7 col2\" >Mean (sd) : 0.6 (0.5)<br>min < med < max:<br>0.0 < 1.0 < 1.0<br>IQR (CV) : 1.0 (1.2)</td>\n",
       "      <td id=\"T_8dbfb_row7_col3\" class=\"data row7 col3\" >2 distinct values</td>\n",
       "      <td id=\"T_8dbfb_row7_col4\" class=\"data row7 col4\" ><img src = \"data:image/png;base64, iVBORw0KGgoAAAANSUhEUgAAAKoAAABGCAYAAABc8A97AAAAOXRFWHRTb2Z0d2FyZQBNYXRwbG90bGliIHZlcnNpb24zLjcuMCwgaHR0cHM6Ly9tYXRwbG90bGliLm9yZy88F64QAAAACXBIWXMAAA9hAAAPYQGoP6dpAAABe0lEQVR4nO3dQWrCQBiG4ZkiopsEETyMh+hhewhvI2VcVCloegJrFIP9yvNsJxNm8RKYxU/qMAwF/rq3Vx8Axpi9+gD8H7XWZSll/uD272EYjtcWhcpT1FqX6/X6veu61SP7D4fDZ63141qsQuVZ5l3Xrbbb7bHv+9M9G1tri91ut9rv9/NSilCZXt/3p81m8/XA1uVviy5TRBAqEYRKBKESQahEECoRhEoEoRJBqEQQKhGESgShEkGoRBAqEYRKBKESQahEECoRhEqEmzNTU47Awli/hjr1CCyMdeuLOukILIw1alx6qhFYGMtlighCJYJQiSBUIgiVCEIlglCJIFQiCJUIQiWCUIkgVCIIlQhCJYJQiSBUIgiVCEIlglCJIFQiCJUIQiWCUIkgVCIIlQhCJYJQiSBUIgiVCEIlglCJIFQiCJUIQiWCUIkgVCIIlQhCJYJQiSBUIoz6IVprbXHvi1tri/P5PCuldLXWuw9GnO5yucwebeXWMz/L+E59QHoZ+gAAAABJRU5ErkJggg==\"></img></td>\n",
       "      <td id=\"T_8dbfb_row7_col5\" class=\"data row7 col5\" >0<br>(0.0%)</td>\n",
       "    </tr>\n",
       "  </tbody>\n",
       "</table>\n"
      ],
      "text/plain": [
       "<pandas.io.formats.style.Styler at 0x2172cc6dc90>"
      ]
     },
     "execution_count": 14,
     "metadata": {},
     "output_type": "execute_result"
    }
   ],
   "source": [
    "from summarytools import dfSummary\n",
    "\n",
    "dfSummary(pet)"
   ]
  },
  {
   "cell_type": "code",
   "execution_count": 3,
   "id": "2e34df9f",
   "metadata": {},
   "outputs": [
    {
     "name": "stdout",
     "output_type": "stream",
     "text": [
      "<class 'pandas.core.frame.DataFrame'>\n",
      "RangeIndex: 1500 entries, 0 to 1499\n",
      "Data columns (total 8 columns):\n",
      " #   Column           Non-Null Count  Dtype  \n",
      "---  ------           --------------  -----  \n",
      " 0   product_id       1500 non-null   int64  \n",
      " 1   category         1500 non-null   object \n",
      " 2   animal           1500 non-null   object \n",
      " 3   size             1500 non-null   object \n",
      " 4   price            1500 non-null   object \n",
      " 5   sales            1500 non-null   float64\n",
      " 6   rating           1350 non-null   float64\n",
      " 7   repeat_purchase  1500 non-null   int64  \n",
      "dtypes: float64(2), int64(2), object(4)\n",
      "memory usage: 93.9+ KB\n"
     ]
    }
   ],
   "source": [
    "pet.info()"
   ]
  },
  {
   "cell_type": "markdown",
   "id": "95677e6e",
   "metadata": {},
   "source": [
    "# Task 1"
   ]
  },
  {
   "cell_type": "markdown",
   "id": "5686e46f",
   "metadata": {},
   "source": [
    "### Product_id"
   ]
  },
  {
   "cell_type": "code",
   "execution_count": 4,
   "id": "72c83f7b",
   "metadata": {},
   "outputs": [
    {
     "data": {
      "text/plain": [
       "1500"
      ]
     },
     "execution_count": 4,
     "metadata": {},
     "output_type": "execute_result"
    }
   ],
   "source": [
    "pet['product_id'].nunique()"
   ]
  },
  {
   "cell_type": "code",
   "execution_count": 5,
   "id": "8b6a8f87",
   "metadata": {},
   "outputs": [
    {
     "data": {
      "text/plain": [
       "1       1\n",
       "998     1\n",
       "1007    1\n",
       "1006    1\n",
       "1005    1\n",
       "       ..\n",
       "498     1\n",
       "497     1\n",
       "496     1\n",
       "495     1\n",
       "1500    1\n",
       "Name: product_id, Length: 1500, dtype: int64"
      ]
     },
     "execution_count": 5,
     "metadata": {},
     "output_type": "execute_result"
    }
   ],
   "source": [
    "pet.product_id.value_counts()"
   ]
  },
  {
   "cell_type": "code",
   "execution_count": 6,
   "id": "a49ec4cb",
   "metadata": {},
   "outputs": [
    {
     "data": {
      "text/plain": [
       "0"
      ]
     },
     "execution_count": 6,
     "metadata": {},
     "output_type": "execute_result"
    }
   ],
   "source": [
    "pet.category.isnull().sum()"
   ]
  },
  {
   "cell_type": "markdown",
   "id": "817930f7",
   "metadata": {},
   "source": [
    "Product_id: There are 1500 unique values that match the description given. There are no missing values. No changes were made to this column."
   ]
  },
  {
   "cell_type": "markdown",
   "id": "0b322f21",
   "metadata": {},
   "source": [
    "### Category"
   ]
  },
  {
   "cell_type": "code",
   "execution_count": 7,
   "id": "1089964e",
   "metadata": {},
   "outputs": [
    {
     "data": {
      "text/plain": [
       "7"
      ]
     },
     "execution_count": 7,
     "metadata": {},
     "output_type": "execute_result"
    }
   ],
   "source": [
    "pet.category.nunique()"
   ]
  },
  {
   "cell_type": "code",
   "execution_count": 8,
   "id": "a1e53219",
   "metadata": {},
   "outputs": [
    {
     "data": {
      "text/plain": [
       "Equipment    370\n",
       "Food         260\n",
       "Toys         255\n",
       "Medicine     237\n",
       "Housing      227\n",
       "Accessory    126\n",
       "-             25\n",
       "Name: category, dtype: int64"
      ]
     },
     "execution_count": 8,
     "metadata": {},
     "output_type": "execute_result"
    }
   ],
   "source": [
    "pet.category.value_counts()"
   ]
  },
  {
   "cell_type": "code",
   "execution_count": 9,
   "id": "72913c01",
   "metadata": {},
   "outputs": [
    {
     "data": {
      "text/plain": [
       "array(['Food', 'Housing', 'Medicine', 'Toys', 'Equipment', 'Accessory',\n",
       "       '-'], dtype=object)"
      ]
     },
     "execution_count": 9,
     "metadata": {},
     "output_type": "execute_result"
    }
   ],
   "source": [
    "pet.category.unique()"
   ]
  },
  {
   "cell_type": "code",
   "execution_count": 10,
   "id": "01d3a4b0",
   "metadata": {},
   "outputs": [
    {
     "data": {
      "text/plain": [
       "0"
      ]
     },
     "execution_count": 10,
     "metadata": {},
     "output_type": "execute_result"
    }
   ],
   "source": [
    "pet.category.isnull().sum()"
   ]
  },
  {
   "cell_type": "markdown",
   "id": "ee301c2d",
   "metadata": {},
   "source": [
    "Category: There were six unique values that match the six given in the data dictionary. There were 25 missing values represented with a hyphen(-).The missing values were replaced with Unknown as per the data description."
   ]
  },
  {
   "cell_type": "code",
   "execution_count": 11,
   "id": "ed22e1df",
   "metadata": {},
   "outputs": [],
   "source": [
    "pet.category = pet.category.replace('-','Unknown')"
   ]
  },
  {
   "cell_type": "code",
   "execution_count": 12,
   "id": "aed99bef",
   "metadata": {},
   "outputs": [
    {
     "data": {
      "text/plain": [
       "7"
      ]
     },
     "execution_count": 12,
     "metadata": {},
     "output_type": "execute_result"
    }
   ],
   "source": [
    "pet.category.nunique()"
   ]
  },
  {
   "cell_type": "code",
   "execution_count": 13,
   "id": "6c30b857",
   "metadata": {},
   "outputs": [
    {
     "data": {
      "text/plain": [
       "array(['Food', 'Housing', 'Medicine', 'Toys', 'Equipment', 'Accessory',\n",
       "       'Unknown'], dtype=object)"
      ]
     },
     "execution_count": 13,
     "metadata": {},
     "output_type": "execute_result"
    }
   ],
   "source": [
    "pet.category.unique()"
   ]
  },
  {
   "cell_type": "markdown",
   "id": "d96148dd",
   "metadata": {},
   "source": [
    "### Animal"
   ]
  },
  {
   "cell_type": "code",
   "execution_count": 14,
   "id": "ee70ce26",
   "metadata": {},
   "outputs": [
    {
     "data": {
      "text/plain": [
       "array(['Bird', 'Dog', 'Cat', 'Fish'], dtype=object)"
      ]
     },
     "execution_count": 14,
     "metadata": {},
     "output_type": "execute_result"
    }
   ],
   "source": [
    "pet.animal.unique()"
   ]
  },
  {
   "cell_type": "code",
   "execution_count": 15,
   "id": "3daf088b",
   "metadata": {},
   "outputs": [
    {
     "data": {
      "text/plain": [
       "4"
      ]
     },
     "execution_count": 15,
     "metadata": {},
     "output_type": "execute_result"
    }
   ],
   "source": [
    "pet.animal.nunique()"
   ]
  },
  {
   "cell_type": "code",
   "execution_count": 16,
   "id": "fd9e321b",
   "metadata": {},
   "outputs": [
    {
     "data": {
      "text/plain": [
       "Cat     567\n",
       "Fish    369\n",
       "Dog     367\n",
       "Bird    197\n",
       "Name: animal, dtype: int64"
      ]
     },
     "execution_count": 16,
     "metadata": {},
     "output_type": "execute_result"
    }
   ],
   "source": [
    "pet.animal.value_counts()"
   ]
  },
  {
   "cell_type": "code",
   "execution_count": 17,
   "id": "f502a394",
   "metadata": {},
   "outputs": [
    {
     "data": {
      "text/plain": [
       "0"
      ]
     },
     "execution_count": 17,
     "metadata": {},
     "output_type": "execute_result"
    }
   ],
   "source": [
    "pet.animal.isnull().sum()"
   ]
  },
  {
   "cell_type": "markdown",
   "id": "524c5658",
   "metadata": {},
   "source": [
    "Animal: There are 4 unique values that match the description given. There are no missing values. No changes were made to this column."
   ]
  },
  {
   "cell_type": "markdown",
   "id": "860d6e76",
   "metadata": {},
   "source": [
    "### Size"
   ]
  },
  {
   "cell_type": "code",
   "execution_count": 18,
   "id": "590529d0",
   "metadata": {},
   "outputs": [
    {
     "data": {
      "text/plain": [
       "small     372\n",
       "medium    233\n",
       "Small     225\n",
       "SMALL     157\n",
       "Medium    150\n",
       "large     122\n",
       "MEDIUM    109\n",
       "Large      75\n",
       "LARGE      57\n",
       "Name: size, dtype: int64"
      ]
     },
     "execution_count": 18,
     "metadata": {},
     "output_type": "execute_result"
    }
   ],
   "source": [
    "pet['size'].value_counts()"
   ]
  },
  {
   "cell_type": "code",
   "execution_count": 19,
   "id": "e076d597",
   "metadata": {},
   "outputs": [
    {
     "data": {
      "text/plain": [
       "array(['large', 'MEDIUM', 'medium', 'small', 'Small', 'Large', 'SMALL',\n",
       "       'Medium', 'LARGE'], dtype=object)"
      ]
     },
     "execution_count": 19,
     "metadata": {},
     "output_type": "execute_result"
    }
   ],
   "source": [
    "pet['size'].unique()"
   ]
  },
  {
   "cell_type": "code",
   "execution_count": 20,
   "id": "7e98e1d6",
   "metadata": {},
   "outputs": [
    {
     "data": {
      "text/plain": [
       "9"
      ]
     },
     "execution_count": 20,
     "metadata": {},
     "output_type": "execute_result"
    }
   ],
   "source": [
    "pet['size'].nunique()"
   ]
  },
  {
   "cell_type": "code",
   "execution_count": 21,
   "id": "0c277d50",
   "metadata": {},
   "outputs": [],
   "source": [
    "pet['size'] = pet['size'].replace({'medium':'Medium','MEDIUM':'Medium','large':'Large','LARGE':'Large','small':'Small',\\\n",
    "                                   'SMALL':'Small'})"
   ]
  },
  {
   "cell_type": "code",
   "execution_count": 22,
   "id": "db0a9aed",
   "metadata": {},
   "outputs": [
    {
     "data": {
      "text/plain": [
       "3"
      ]
     },
     "execution_count": 22,
     "metadata": {},
     "output_type": "execute_result"
    }
   ],
   "source": [
    "pet['size'].nunique()"
   ]
  },
  {
   "cell_type": "code",
   "execution_count": 23,
   "id": "b3823979",
   "metadata": {},
   "outputs": [
    {
     "data": {
      "text/plain": [
       "array(['Large', 'Medium', 'Small'], dtype=object)"
      ]
     },
     "execution_count": 23,
     "metadata": {},
     "output_type": "execute_result"
    }
   ],
   "source": [
    "pet['size'].unique()"
   ]
  },
  {
   "cell_type": "code",
   "execution_count": 24,
   "id": "ec97e62f",
   "metadata": {},
   "outputs": [
    {
     "data": {
      "text/plain": [
       "0"
      ]
     },
     "execution_count": 24,
     "metadata": {},
     "output_type": "execute_result"
    }
   ],
   "source": [
    "pet['size'].isnull().sum()"
   ]
  },
  {
   "cell_type": "markdown",
   "id": "afe2eef0",
   "metadata": {},
   "source": [
    "Size: There were 3 unique values that match the description given. However, the three values had variations in terms of their case(Upper case, lower case and the Capitalized case). These variations were transformed to the Capitalized format as it matches the case in the description. No missing values."
   ]
  },
  {
   "cell_type": "markdown",
   "id": "dca72ff6",
   "metadata": {},
   "source": [
    "### Price"
   ]
  },
  {
   "cell_type": "code",
   "execution_count": 25,
   "id": "6bd2770a",
   "metadata": {},
   "outputs": [
    {
     "data": {
      "text/plain": [
       "707"
      ]
     },
     "execution_count": 25,
     "metadata": {},
     "output_type": "execute_result"
    }
   ],
   "source": [
    "pet.price.nunique()"
   ]
  },
  {
   "cell_type": "code",
   "execution_count": 26,
   "id": "87325fb9",
   "metadata": {},
   "outputs": [
    {
     "data": {
      "text/plain": [
       "unlisted    150\n",
       "22.98        13\n",
       "28           10\n",
       "28.03         8\n",
       "19.94         8\n",
       "           ... \n",
       "38.66         1\n",
       "36            1\n",
       "19.97         1\n",
       "39.19         1\n",
       "25.79         1\n",
       "Name: price, Length: 707, dtype: int64"
      ]
     },
     "execution_count": 26,
     "metadata": {},
     "output_type": "execute_result"
    }
   ],
   "source": [
    "pet.price.value_counts()"
   ]
  },
  {
   "cell_type": "code",
   "execution_count": 27,
   "id": "e3f83381",
   "metadata": {},
   "outputs": [
    {
     "data": {
      "text/plain": [
       "'12.85'"
      ]
     },
     "execution_count": 27,
     "metadata": {},
     "output_type": "execute_result"
    }
   ],
   "source": [
    "pet.price.min()"
   ]
  },
  {
   "cell_type": "code",
   "execution_count": 28,
   "id": "b5d37cec",
   "metadata": {},
   "outputs": [
    {
     "data": {
      "text/plain": [
       "dtype('O')"
      ]
     },
     "execution_count": 28,
     "metadata": {},
     "output_type": "execute_result"
    }
   ],
   "source": [
    "pet.price.dtype"
   ]
  },
  {
   "cell_type": "code",
   "execution_count": 29,
   "id": "21f47076",
   "metadata": {},
   "outputs": [
    {
     "ename": "ValueError",
     "evalue": "Unable to parse string \"unlisted\" at position 20",
     "output_type": "error",
     "traceback": [
      "\u001b[1;31m---------------------------------------------------------------------------\u001b[0m",
      "\u001b[1;31mValueError\u001b[0m                                Traceback (most recent call last)",
      "File \u001b[1;32m~\\anaconda3\\lib\\site-packages\\pandas\\_libs\\lib.pyx:2369\u001b[0m, in \u001b[0;36mpandas._libs.lib.maybe_convert_numeric\u001b[1;34m()\u001b[0m\n",
      "\u001b[1;31mValueError\u001b[0m: Unable to parse string \"unlisted\"",
      "\nDuring handling of the above exception, another exception occurred:\n",
      "\u001b[1;31mValueError\u001b[0m                                Traceback (most recent call last)",
      "Cell \u001b[1;32mIn[29], line 1\u001b[0m\n\u001b[1;32m----> 1\u001b[0m pet\u001b[38;5;241m.\u001b[39mprice \u001b[38;5;241m=\u001b[39m \u001b[43mpd\u001b[49m\u001b[38;5;241;43m.\u001b[39;49m\u001b[43mto_numeric\u001b[49m\u001b[43m(\u001b[49m\u001b[43mpet\u001b[49m\u001b[38;5;241;43m.\u001b[39;49m\u001b[43mprice\u001b[49m\u001b[43m)\u001b[49m\n",
      "File \u001b[1;32m~\\anaconda3\\lib\\site-packages\\pandas\\core\\tools\\numeric.py:185\u001b[0m, in \u001b[0;36mto_numeric\u001b[1;34m(arg, errors, downcast)\u001b[0m\n\u001b[0;32m    183\u001b[0m coerce_numeric \u001b[38;5;241m=\u001b[39m errors \u001b[38;5;129;01mnot\u001b[39;00m \u001b[38;5;129;01min\u001b[39;00m (\u001b[38;5;124m\"\u001b[39m\u001b[38;5;124mignore\u001b[39m\u001b[38;5;124m\"\u001b[39m, \u001b[38;5;124m\"\u001b[39m\u001b[38;5;124mraise\u001b[39m\u001b[38;5;124m\"\u001b[39m)\n\u001b[0;32m    184\u001b[0m \u001b[38;5;28;01mtry\u001b[39;00m:\n\u001b[1;32m--> 185\u001b[0m     values, _ \u001b[38;5;241m=\u001b[39m \u001b[43mlib\u001b[49m\u001b[38;5;241;43m.\u001b[39;49m\u001b[43mmaybe_convert_numeric\u001b[49m\u001b[43m(\u001b[49m\n\u001b[0;32m    186\u001b[0m \u001b[43m        \u001b[49m\u001b[43mvalues\u001b[49m\u001b[43m,\u001b[49m\u001b[43m \u001b[49m\u001b[38;5;28;43mset\u001b[39;49m\u001b[43m(\u001b[49m\u001b[43m)\u001b[49m\u001b[43m,\u001b[49m\u001b[43m \u001b[49m\u001b[43mcoerce_numeric\u001b[49m\u001b[38;5;241;43m=\u001b[39;49m\u001b[43mcoerce_numeric\u001b[49m\n\u001b[0;32m    187\u001b[0m \u001b[43m    \u001b[49m\u001b[43m)\u001b[49m\n\u001b[0;32m    188\u001b[0m \u001b[38;5;28;01mexcept\u001b[39;00m (\u001b[38;5;167;01mValueError\u001b[39;00m, \u001b[38;5;167;01mTypeError\u001b[39;00m):\n\u001b[0;32m    189\u001b[0m     \u001b[38;5;28;01mif\u001b[39;00m errors \u001b[38;5;241m==\u001b[39m \u001b[38;5;124m\"\u001b[39m\u001b[38;5;124mraise\u001b[39m\u001b[38;5;124m\"\u001b[39m:\n",
      "File \u001b[1;32m~\\anaconda3\\lib\\site-packages\\pandas\\_libs\\lib.pyx:2411\u001b[0m, in \u001b[0;36mpandas._libs.lib.maybe_convert_numeric\u001b[1;34m()\u001b[0m\n",
      "\u001b[1;31mValueError\u001b[0m: Unable to parse string \"unlisted\" at position 20"
     ]
    }
   ],
   "source": [
    "pet.price = pd.to_numeric(pet.price)"
   ]
  },
  {
   "cell_type": "code",
   "execution_count": 30,
   "id": "5e22ba95",
   "metadata": {},
   "outputs": [
    {
     "data": {
      "text/plain": [
       "'unlisted'"
      ]
     },
     "execution_count": 30,
     "metadata": {},
     "output_type": "execute_result"
    }
   ],
   "source": [
    "pet.price.iloc[20]"
   ]
  },
  {
   "cell_type": "code",
   "execution_count": 31,
   "id": "35c74b90",
   "metadata": {},
   "outputs": [
    {
     "data": {
      "text/html": [
       "<div>\n",
       "<style scoped>\n",
       "    .dataframe tbody tr th:only-of-type {\n",
       "        vertical-align: middle;\n",
       "    }\n",
       "\n",
       "    .dataframe tbody tr th {\n",
       "        vertical-align: top;\n",
       "    }\n",
       "\n",
       "    .dataframe thead th {\n",
       "        text-align: right;\n",
       "    }\n",
       "</style>\n",
       "<table border=\"1\" class=\"dataframe\">\n",
       "  <thead>\n",
       "    <tr style=\"text-align: right;\">\n",
       "      <th></th>\n",
       "      <th>product_id</th>\n",
       "      <th>category</th>\n",
       "      <th>animal</th>\n",
       "      <th>size</th>\n",
       "      <th>price</th>\n",
       "      <th>sales</th>\n",
       "      <th>rating</th>\n",
       "      <th>repeat_purchase</th>\n",
       "    </tr>\n",
       "  </thead>\n",
       "  <tbody>\n",
       "  </tbody>\n",
       "</table>\n",
       "</div>"
      ],
      "text/plain": [
       "Empty DataFrame\n",
       "Columns: [product_id, category, animal, size, price, sales, rating, repeat_purchase]\n",
       "Index: []"
      ]
     },
     "execution_count": 31,
     "metadata": {},
     "output_type": "execute_result"
    }
   ],
   "source": [
    "pet[pet.price==0]"
   ]
  },
  {
   "cell_type": "code",
   "execution_count": 32,
   "id": "9f41d794",
   "metadata": {},
   "outputs": [
    {
     "data": {
      "text/plain": [
       "0"
      ]
     },
     "execution_count": 32,
     "metadata": {},
     "output_type": "execute_result"
    }
   ],
   "source": [
    "pet.price.isnull().sum()"
   ]
  },
  {
   "cell_type": "code",
   "execution_count": 33,
   "id": "c8872841",
   "metadata": {},
   "outputs": [],
   "source": [
    "pet.price = pet.price.replace('unlisted',0)"
   ]
  },
  {
   "cell_type": "code",
   "execution_count": 34,
   "id": "ec036e78",
   "metadata": {},
   "outputs": [
    {
     "data": {
      "text/html": [
       "<div>\n",
       "<style scoped>\n",
       "    .dataframe tbody tr th:only-of-type {\n",
       "        vertical-align: middle;\n",
       "    }\n",
       "\n",
       "    .dataframe tbody tr th {\n",
       "        vertical-align: top;\n",
       "    }\n",
       "\n",
       "    .dataframe thead th {\n",
       "        text-align: right;\n",
       "    }\n",
       "</style>\n",
       "<table border=\"1\" class=\"dataframe\">\n",
       "  <thead>\n",
       "    <tr style=\"text-align: right;\">\n",
       "      <th></th>\n",
       "      <th>product_id</th>\n",
       "      <th>category</th>\n",
       "      <th>animal</th>\n",
       "      <th>size</th>\n",
       "      <th>price</th>\n",
       "      <th>sales</th>\n",
       "      <th>rating</th>\n",
       "      <th>repeat_purchase</th>\n",
       "    </tr>\n",
       "  </thead>\n",
       "  <tbody>\n",
       "    <tr>\n",
       "      <th>20</th>\n",
       "      <td>21</td>\n",
       "      <td>Food</td>\n",
       "      <td>Fish</td>\n",
       "      <td>Medium</td>\n",
       "      <td>0</td>\n",
       "      <td>542.06</td>\n",
       "      <td>NaN</td>\n",
       "      <td>0</td>\n",
       "    </tr>\n",
       "    <tr>\n",
       "      <th>44</th>\n",
       "      <td>45</td>\n",
       "      <td>Medicine</td>\n",
       "      <td>Bird</td>\n",
       "      <td>Medium</td>\n",
       "      <td>0</td>\n",
       "      <td>1209.41</td>\n",
       "      <td>NaN</td>\n",
       "      <td>0</td>\n",
       "    </tr>\n",
       "    <tr>\n",
       "      <th>46</th>\n",
       "      <td>47</td>\n",
       "      <td>Toys</td>\n",
       "      <td>Cat</td>\n",
       "      <td>Small</td>\n",
       "      <td>0</td>\n",
       "      <td>1367.47</td>\n",
       "      <td>NaN</td>\n",
       "      <td>1</td>\n",
       "    </tr>\n",
       "    <tr>\n",
       "      <th>70</th>\n",
       "      <td>71</td>\n",
       "      <td>Equipment</td>\n",
       "      <td>Dog</td>\n",
       "      <td>Large</td>\n",
       "      <td>0</td>\n",
       "      <td>1446.43</td>\n",
       "      <td>NaN</td>\n",
       "      <td>0</td>\n",
       "    </tr>\n",
       "    <tr>\n",
       "      <th>73</th>\n",
       "      <td>74</td>\n",
       "      <td>Food</td>\n",
       "      <td>Bird</td>\n",
       "      <td>Large</td>\n",
       "      <td>0</td>\n",
       "      <td>1864.01</td>\n",
       "      <td>NaN</td>\n",
       "      <td>0</td>\n",
       "    </tr>\n",
       "    <tr>\n",
       "      <th>...</th>\n",
       "      <td>...</td>\n",
       "      <td>...</td>\n",
       "      <td>...</td>\n",
       "      <td>...</td>\n",
       "      <td>...</td>\n",
       "      <td>...</td>\n",
       "      <td>...</td>\n",
       "      <td>...</td>\n",
       "    </tr>\n",
       "    <tr>\n",
       "      <th>1447</th>\n",
       "      <td>1448</td>\n",
       "      <td>Medicine</td>\n",
       "      <td>Fish</td>\n",
       "      <td>Medium</td>\n",
       "      <td>0</td>\n",
       "      <td>456.96</td>\n",
       "      <td>NaN</td>\n",
       "      <td>1</td>\n",
       "    </tr>\n",
       "    <tr>\n",
       "      <th>1469</th>\n",
       "      <td>1470</td>\n",
       "      <td>Equipment</td>\n",
       "      <td>Fish</td>\n",
       "      <td>Small</td>\n",
       "      <td>0</td>\n",
       "      <td>710.47</td>\n",
       "      <td>NaN</td>\n",
       "      <td>0</td>\n",
       "    </tr>\n",
       "    <tr>\n",
       "      <th>1471</th>\n",
       "      <td>1472</td>\n",
       "      <td>Toys</td>\n",
       "      <td>Fish</td>\n",
       "      <td>Small</td>\n",
       "      <td>0</td>\n",
       "      <td>976.63</td>\n",
       "      <td>NaN</td>\n",
       "      <td>0</td>\n",
       "    </tr>\n",
       "    <tr>\n",
       "      <th>1476</th>\n",
       "      <td>1477</td>\n",
       "      <td>Housing</td>\n",
       "      <td>Bird</td>\n",
       "      <td>Large</td>\n",
       "      <td>0</td>\n",
       "      <td>1567.31</td>\n",
       "      <td>NaN</td>\n",
       "      <td>1</td>\n",
       "    </tr>\n",
       "    <tr>\n",
       "      <th>1483</th>\n",
       "      <td>1484</td>\n",
       "      <td>Equipment</td>\n",
       "      <td>Cat</td>\n",
       "      <td>Small</td>\n",
       "      <td>0</td>\n",
       "      <td>1037.81</td>\n",
       "      <td>NaN</td>\n",
       "      <td>1</td>\n",
       "    </tr>\n",
       "  </tbody>\n",
       "</table>\n",
       "<p>150 rows × 8 columns</p>\n",
       "</div>"
      ],
      "text/plain": [
       "      product_id   category animal    size price    sales  rating  \\\n",
       "20            21       Food   Fish  Medium     0   542.06     NaN   \n",
       "44            45   Medicine   Bird  Medium     0  1209.41     NaN   \n",
       "46            47       Toys    Cat   Small     0  1367.47     NaN   \n",
       "70            71  Equipment    Dog   Large     0  1446.43     NaN   \n",
       "73            74       Food   Bird   Large     0  1864.01     NaN   \n",
       "...          ...        ...    ...     ...   ...      ...     ...   \n",
       "1447        1448   Medicine   Fish  Medium     0   456.96     NaN   \n",
       "1469        1470  Equipment   Fish   Small     0   710.47     NaN   \n",
       "1471        1472       Toys   Fish   Small     0   976.63     NaN   \n",
       "1476        1477    Housing   Bird   Large     0  1567.31     NaN   \n",
       "1483        1484  Equipment    Cat   Small     0  1037.81     NaN   \n",
       "\n",
       "      repeat_purchase  \n",
       "20                  0  \n",
       "44                  0  \n",
       "46                  1  \n",
       "70                  0  \n",
       "73                  0  \n",
       "...               ...  \n",
       "1447                1  \n",
       "1469                0  \n",
       "1471                0  \n",
       "1476                1  \n",
       "1483                1  \n",
       "\n",
       "[150 rows x 8 columns]"
      ]
     },
     "execution_count": 34,
     "metadata": {},
     "output_type": "execute_result"
    }
   ],
   "source": [
    "pet[pet.price==0]"
   ]
  },
  {
   "cell_type": "code",
   "execution_count": 35,
   "id": "ecc6248e",
   "metadata": {},
   "outputs": [
    {
     "data": {
      "text/plain": [
       "dtype('O')"
      ]
     },
     "execution_count": 35,
     "metadata": {},
     "output_type": "execute_result"
    }
   ],
   "source": [
    "pet.price.dtype"
   ]
  },
  {
   "cell_type": "code",
   "execution_count": 36,
   "id": "ee7fd502",
   "metadata": {},
   "outputs": [],
   "source": [
    "pet.price = pet.price.astype('float')"
   ]
  },
  {
   "cell_type": "code",
   "execution_count": 37,
   "id": "d53eb47b",
   "metadata": {},
   "outputs": [
    {
     "data": {
      "text/plain": [
       "27.93"
      ]
     },
     "execution_count": 37,
     "metadata": {},
     "output_type": "execute_result"
    }
   ],
   "source": [
    "pet.price.median()"
   ]
  },
  {
   "cell_type": "code",
   "execution_count": 38,
   "id": "752abfd8",
   "metadata": {},
   "outputs": [],
   "source": [
    "pet.price = pet.price.replace(0, pet.price.median())"
   ]
  },
  {
   "cell_type": "code",
   "execution_count": 39,
   "id": "41532b71",
   "metadata": {},
   "outputs": [
    {
     "data": {
      "text/html": [
       "<div>\n",
       "<style scoped>\n",
       "    .dataframe tbody tr th:only-of-type {\n",
       "        vertical-align: middle;\n",
       "    }\n",
       "\n",
       "    .dataframe tbody tr th {\n",
       "        vertical-align: top;\n",
       "    }\n",
       "\n",
       "    .dataframe thead th {\n",
       "        text-align: right;\n",
       "    }\n",
       "</style>\n",
       "<table border=\"1\" class=\"dataframe\">\n",
       "  <thead>\n",
       "    <tr style=\"text-align: right;\">\n",
       "      <th></th>\n",
       "      <th>product_id</th>\n",
       "      <th>category</th>\n",
       "      <th>animal</th>\n",
       "      <th>size</th>\n",
       "      <th>price</th>\n",
       "      <th>sales</th>\n",
       "      <th>rating</th>\n",
       "      <th>repeat_purchase</th>\n",
       "    </tr>\n",
       "  </thead>\n",
       "  <tbody>\n",
       "  </tbody>\n",
       "</table>\n",
       "</div>"
      ],
      "text/plain": [
       "Empty DataFrame\n",
       "Columns: [product_id, category, animal, size, price, sales, rating, repeat_purchase]\n",
       "Index: []"
      ]
     },
     "execution_count": 39,
     "metadata": {},
     "output_type": "execute_result"
    }
   ],
   "source": [
    "pet[pet.price==0]"
   ]
  },
  {
   "cell_type": "code",
   "execution_count": 40,
   "id": "d9dd672b",
   "metadata": {},
   "outputs": [
    {
     "data": {
      "text/plain": [
       "0"
      ]
     },
     "execution_count": 40,
     "metadata": {},
     "output_type": "execute_result"
    }
   ],
   "source": [
    "pet.price.isnull().sum()"
   ]
  },
  {
   "cell_type": "code",
   "execution_count": 41,
   "id": "0d02c901",
   "metadata": {},
   "outputs": [
    {
     "name": "stdout",
     "output_type": "stream",
     "text": [
      "Range:  12.85 to  54.16\n"
     ]
    }
   ],
   "source": [
    "print('Range: ', pet.price.min(), 'to ', pet.price.max())"
   ]
  },
  {
   "cell_type": "markdown",
   "id": "23fcb8ed",
   "metadata": {},
   "source": [
    "Price: The datatype didn't match the description given. The description given stated a continuous datatype but it was in Object format - another word for string. This was due to values in the price column named unlisted. These values were first replaced with 0 after checking if any value in the column was equal to 0. The column was then converted to numeric or float datatype. Then the values that were 0 were further replced with the overall median value which is 27.93. The price ranged from 12.85 to 54.16"
   ]
  },
  {
   "cell_type": "markdown",
   "id": "5e81bd2d",
   "metadata": {},
   "source": [
    "### Sales"
   ]
  },
  {
   "cell_type": "code",
   "execution_count": 42,
   "id": "03e995c8",
   "metadata": {},
   "outputs": [
    {
     "data": {
      "text/plain": [
       "dtype('float64')"
      ]
     },
     "execution_count": 42,
     "metadata": {},
     "output_type": "execute_result"
    }
   ],
   "source": [
    "pet.sales.dtype"
   ]
  },
  {
   "cell_type": "code",
   "execution_count": 43,
   "id": "cbceb584",
   "metadata": {},
   "outputs": [
    {
     "data": {
      "text/plain": [
       "(286.94, 2255.96)"
      ]
     },
     "execution_count": 43,
     "metadata": {},
     "output_type": "execute_result"
    }
   ],
   "source": [
    "pet.sales.min(), pet.sales.max()"
   ]
  },
  {
   "cell_type": "code",
   "execution_count": 44,
   "id": "d8d74d4b",
   "metadata": {},
   "outputs": [
    {
     "data": {
      "text/plain": [
       "0"
      ]
     },
     "execution_count": 44,
     "metadata": {},
     "output_type": "execute_result"
    }
   ],
   "source": [
    "pet.sales.isnull().sum()"
   ]
  },
  {
   "cell_type": "code",
   "execution_count": 63,
   "id": "8fd478b3",
   "metadata": {},
   "outputs": [
    {
     "data": {
      "text/plain": [
       "996.5978466666667"
      ]
     },
     "execution_count": 63,
     "metadata": {},
     "output_type": "execute_result"
    }
   ],
   "source": [
    "pet.sales.mean()"
   ]
  },
  {
   "cell_type": "markdown",
   "id": "b2367b7e",
   "metadata": {},
   "source": [
    "Sales: The values of this column ranged from 286.94 to 2255.96, which is consistent with the description given. No missing values. No changes were made to this column"
   ]
  },
  {
   "cell_type": "markdown",
   "id": "af2ac70b",
   "metadata": {},
   "source": [
    "### Rating"
   ]
  },
  {
   "cell_type": "code",
   "execution_count": 45,
   "id": "a8668b53",
   "metadata": {
    "scrolled": true
   },
   "outputs": [
    {
     "data": {
      "text/plain": [
       "array([ 7.,  6.,  5.,  4.,  8.,  1.,  3., nan,  2.,  9.])"
      ]
     },
     "execution_count": 45,
     "metadata": {},
     "output_type": "execute_result"
    }
   ],
   "source": [
    "pet.rating.unique()"
   ]
  },
  {
   "cell_type": "code",
   "execution_count": 46,
   "id": "e879470c",
   "metadata": {},
   "outputs": [
    {
     "data": {
      "text/plain": [
       "5.0    304\n",
       "6.0    299\n",
       "4.0    283\n",
       "3.0    190\n",
       "7.0    143\n",
       "8.0     61\n",
       "2.0     43\n",
       "9.0     15\n",
       "1.0     12\n",
       "Name: rating, dtype: int64"
      ]
     },
     "execution_count": 46,
     "metadata": {},
     "output_type": "execute_result"
    }
   ],
   "source": [
    "pet.rating.value_counts()"
   ]
  },
  {
   "cell_type": "code",
   "execution_count": 47,
   "id": "0338b909",
   "metadata": {},
   "outputs": [
    {
     "data": {
      "text/plain": [
       "150"
      ]
     },
     "execution_count": 47,
     "metadata": {},
     "output_type": "execute_result"
    }
   ],
   "source": [
    "pet.rating.isnull().sum()"
   ]
  },
  {
   "cell_type": "code",
   "execution_count": 48,
   "id": "80fb80e8",
   "metadata": {},
   "outputs": [],
   "source": [
    "pet.rating = pet.rating.fillna(0)"
   ]
  },
  {
   "cell_type": "code",
   "execution_count": 49,
   "id": "53ef81fb",
   "metadata": {},
   "outputs": [
    {
     "data": {
      "text/plain": [
       "array([7., 6., 5., 4., 8., 1., 3., 0., 2., 9.])"
      ]
     },
     "execution_count": 49,
     "metadata": {},
     "output_type": "execute_result"
    }
   ],
   "source": [
    "pet.rating.unique()"
   ]
  },
  {
   "cell_type": "code",
   "execution_count": 50,
   "id": "c4f668c2",
   "metadata": {},
   "outputs": [],
   "source": [
    "pet.rating = pet.rating.astype(int)"
   ]
  },
  {
   "cell_type": "code",
   "execution_count": 51,
   "id": "eccfea43",
   "metadata": {},
   "outputs": [
    {
     "data": {
      "text/plain": [
       "array([7, 6, 5, 4, 8, 1, 3, 0, 2, 9])"
      ]
     },
     "execution_count": 51,
     "metadata": {},
     "output_type": "execute_result"
    }
   ],
   "source": [
    "pet.rating.unique()"
   ]
  },
  {
   "cell_type": "markdown",
   "id": "b44b1978",
   "metadata": {},
   "source": [
    "Rating: The datatype did not match the description given. Instead of discrete(integers) values, the values were formatted as floats. The minimum rating was 1 while the maximum rating was 9. There were 150 missing values. The missing values were replaced with 0."
   ]
  },
  {
   "cell_type": "markdown",
   "id": "26a73c3c",
   "metadata": {},
   "source": [
    "### Repeat_purchase"
   ]
  },
  {
   "cell_type": "code",
   "execution_count": 52,
   "id": "1de87ecf",
   "metadata": {},
   "outputs": [
    {
     "data": {
      "text/plain": [
       "1    906\n",
       "0    594\n",
       "Name: repeat_purchase, dtype: int64"
      ]
     },
     "execution_count": 52,
     "metadata": {},
     "output_type": "execute_result"
    }
   ],
   "source": [
    "pet.repeat_purchase.value_counts()"
   ]
  },
  {
   "cell_type": "code",
   "execution_count": 53,
   "id": "e3a1363e",
   "metadata": {},
   "outputs": [
    {
     "data": {
      "text/plain": [
       "2"
      ]
     },
     "execution_count": 53,
     "metadata": {},
     "output_type": "execute_result"
    }
   ],
   "source": [
    "pet.repeat_purchase.nunique()"
   ]
  },
  {
   "cell_type": "markdown",
   "id": "d35b9ee1",
   "metadata": {},
   "source": [
    "Repeat_purchase: There were two unique categories which are 1 and 0. These categories match the description given. There were no missing values and no changes were made to this column."
   ]
  },
  {
   "cell_type": "markdown",
   "id": "a187a3f3",
   "metadata": {},
   "source": [
    "# Task 2"
   ]
  },
  {
   "cell_type": "code",
   "execution_count": 57,
   "id": "772b19de",
   "metadata": {},
   "outputs": [],
   "source": [
    "sns.set_style('whitegrid')"
   ]
  },
  {
   "cell_type": "code",
   "execution_count": 85,
   "id": "731251d8",
   "metadata": {},
   "outputs": [
    {
     "data": {
      "image/png": "[encoded data removed]",
      "text/plain": [
       "<Figure size 640x480 with 1 Axes>"
      ]
     },
     "metadata": {},
     "output_type": "display_data"
    }
   ],
   "source": [
    "sns.countplot(data=pet, x='repeat_purchase').set(title='COUNT OF REPEAT PURCHASE\\nCustomers repeatedly bought products');\n",
    "#plt.savefig('Repeat Purchase.jpeg')"
   ]
  },
  {
   "cell_type": "markdown",
   "id": "84d12284",
   "metadata": {},
   "source": [
    "There are two categories included in this data(whether a product was bought repeatedly(1) or not(0)). The product was bought repeatedly most times. The categories are unbalanaced, with most of the observations being 1(almost 900). The team should focus on such a product and further analysis could be carried out on the product to see what product category or sub-category it is, and what makes customers purchase it repeatedly."
   ]
  },
  {
   "cell_type": "markdown",
   "id": "08492884",
   "metadata": {},
   "source": [
    "# Task 3"
   ]
  },
  {
   "cell_type": "code",
   "execution_count": 86,
   "id": "408d3cad",
   "metadata": {},
   "outputs": [
    {
     "data": {
      "image/png": "[encoded data removed]",
      "text/plain": [
       "<Figure size 640x480 with 1 Axes>"
      ]
     },
     "metadata": {},
     "output_type": "display_data"
    }
   ],
   "source": [
    "sns.histplot(data=pet, x='sales').set(title='RANGE IN SALES\\nFocused to remove outlying values');\n",
    "#plt.savefig('Sales Range.jpeg')"
   ]
  },
  {
   "cell_type": "markdown",
   "id": "5e86d78e",
   "metadata": {},
   "source": [
    "The company intends to increase sales by selling day-to-day prodcuts repeatedly. As a result, we are taking a look at the distribution of sales. </br></br>The company has made sales mostly around 1,000. There are other things to consider if the company is to increase sales like; the products customers purchase the most, the season with the most purchase, and the products that customers bought repeatedly."
   ]
  },
  {
   "cell_type": "markdown",
   "id": "92c95e4c",
   "metadata": {},
   "source": [
    "# Task 4"
   ]
  },
  {
   "cell_type": "code",
   "execution_count": null,
   "id": "9a43b95a",
   "metadata": {},
   "outputs": [],
   "source": []
  },
  {
   "cell_type": "code",
   "execution_count": 87,
   "id": "c545d7d6",
   "metadata": {},
   "outputs": [
    {
     "data": {
      "image/png": "[encoded data removed]",
      "text/plain": [
       "<Figure size 640x480 with 1 Axes>"
      ]
     },
     "metadata": {},
     "output_type": "display_data"
    }
   ],
   "source": [
    "sns.boxplot(data=pet, x='repeat_purchase', y='sales').set_title('SALES BY REPEAT PURCHASE\\nWhere the outliers are impacting the view');\n",
    "#plt.savefig('Sales by Purchase.jpeg')"
   ]
  },
  {
   "cell_type": "code",
   "execution_count": 66,
   "id": "c8d668e8",
   "metadata": {},
   "outputs": [],
   "source": [
    "from scipy import stats"
   ]
  },
  {
   "cell_type": "code",
   "execution_count": 68,
   "id": "18506b8e",
   "metadata": {},
   "outputs": [],
   "source": [
    "pet['z-score'] = stats.zscore(pet['sales'])"
   ]
  },
  {
   "cell_type": "code",
   "execution_count": 78,
   "id": "3531341b",
   "metadata": {},
   "outputs": [
    {
     "data": {
      "text/plain": [
       "(7, 9)"
      ]
     },
     "execution_count": 78,
     "metadata": {},
     "output_type": "execute_result"
    }
   ],
   "source": [
    "pet[pet['z-score']>3].shape"
   ]
  },
  {
   "cell_type": "code",
   "execution_count": 79,
   "id": "0781ba8c",
   "metadata": {},
   "outputs": [],
   "source": [
    "pet = pet[pet['z-score']<3]"
   ]
  },
  {
   "cell_type": "code",
   "execution_count": 80,
   "id": "e8d759de",
   "metadata": {},
   "outputs": [
    {
     "data": {
      "text/html": [
       "<div>\n",
       "<style scoped>\n",
       "    .dataframe tbody tr th:only-of-type {\n",
       "        vertical-align: middle;\n",
       "    }\n",
       "\n",
       "    .dataframe tbody tr th {\n",
       "        vertical-align: top;\n",
       "    }\n",
       "\n",
       "    .dataframe thead th {\n",
       "        text-align: right;\n",
       "    }\n",
       "</style>\n",
       "<table border=\"1\" class=\"dataframe\">\n",
       "  <thead>\n",
       "    <tr style=\"text-align: right;\">\n",
       "      <th></th>\n",
       "      <th>product_id</th>\n",
       "      <th>category</th>\n",
       "      <th>animal</th>\n",
       "      <th>size</th>\n",
       "      <th>price</th>\n",
       "      <th>sales</th>\n",
       "      <th>rating</th>\n",
       "      <th>repeat_purchase</th>\n",
       "      <th>z-score</th>\n",
       "    </tr>\n",
       "  </thead>\n",
       "  <tbody>\n",
       "    <tr>\n",
       "      <th>0</th>\n",
       "      <td>1</td>\n",
       "      <td>Food</td>\n",
       "      <td>Bird</td>\n",
       "      <td>Large</td>\n",
       "      <td>51.10</td>\n",
       "      <td>1860.62</td>\n",
       "      <td>7</td>\n",
       "      <td>1</td>\n",
       "      <td>2.668014</td>\n",
       "    </tr>\n",
       "    <tr>\n",
       "      <th>1</th>\n",
       "      <td>2</td>\n",
       "      <td>Housing</td>\n",
       "      <td>Bird</td>\n",
       "      <td>Medium</td>\n",
       "      <td>35.98</td>\n",
       "      <td>963.60</td>\n",
       "      <td>6</td>\n",
       "      <td>0</td>\n",
       "      <td>-0.101894</td>\n",
       "    </tr>\n",
       "    <tr>\n",
       "      <th>2</th>\n",
       "      <td>3</td>\n",
       "      <td>Food</td>\n",
       "      <td>Dog</td>\n",
       "      <td>Medium</td>\n",
       "      <td>31.23</td>\n",
       "      <td>898.30</td>\n",
       "      <td>5</td>\n",
       "      <td>1</td>\n",
       "      <td>-0.303534</td>\n",
       "    </tr>\n",
       "    <tr>\n",
       "      <th>3</th>\n",
       "      <td>4</td>\n",
       "      <td>Medicine</td>\n",
       "      <td>Cat</td>\n",
       "      <td>Small</td>\n",
       "      <td>24.95</td>\n",
       "      <td>982.15</td>\n",
       "      <td>6</td>\n",
       "      <td>1</td>\n",
       "      <td>-0.044614</td>\n",
       "    </tr>\n",
       "    <tr>\n",
       "      <th>4</th>\n",
       "      <td>5</td>\n",
       "      <td>Housing</td>\n",
       "      <td>Cat</td>\n",
       "      <td>Small</td>\n",
       "      <td>26.18</td>\n",
       "      <td>832.63</td>\n",
       "      <td>7</td>\n",
       "      <td>1</td>\n",
       "      <td>-0.506316</td>\n",
       "    </tr>\n",
       "  </tbody>\n",
       "</table>\n",
       "</div>"
      ],
      "text/plain": [
       "   product_id  category animal    size  price    sales  rating  \\\n",
       "0           1      Food   Bird   Large  51.10  1860.62       7   \n",
       "1           2   Housing   Bird  Medium  35.98   963.60       6   \n",
       "2           3      Food    Dog  Medium  31.23   898.30       5   \n",
       "3           4  Medicine    Cat   Small  24.95   982.15       6   \n",
       "4           5   Housing    Cat   Small  26.18   832.63       7   \n",
       "\n",
       "   repeat_purchase   z-score  \n",
       "0                1  2.668014  \n",
       "1                0 -0.101894  \n",
       "2                1 -0.303534  \n",
       "3                1 -0.044614  \n",
       "4                1 -0.506316  "
      ]
     },
     "execution_count": 80,
     "metadata": {},
     "output_type": "execute_result"
    }
   ],
   "source": [
    "pet.head()"
   ]
  },
  {
   "cell_type": "code",
   "execution_count": 88,
   "id": "2514dc6e",
   "metadata": {},
   "outputs": [
    {
     "data": {
      "image/png": "[encoded data removed]",
      "text/plain": [
       "<Figure size 640x480 with 1 Axes>"
      ]
     },
     "metadata": {},
     "output_type": "display_data"
    }
   ],
   "source": [
    "sns.boxplot(data=pet, x='repeat_purchase', y='sales').set_title('SALES BY REPEAT PURCHASE\\nFocused to remove outlying values');\n",
    "#plt.savefig('Sales by Purchase_no_outlier.jpeg')"
   ]
  },
  {
   "cell_type": "markdown",
   "id": "12b1b1f5",
   "metadata": {},
   "source": [
    "After removing outliers there's no change in the above visual. As a result, we could recommend that further analysis should be done to understand how repeat purchase affects sales and what can be done to improve the sales of repeat product. By doing this, the company will understand exactly what to do to increase sales with the help and expertise of the marketing team.<br><br>\n",
    "\n",
    "Everyday products are the best products to invest time and resources into since it'll increase sales and patronage and by implication, increase popularity of the company."
   ]
  }
 ],
 "metadata": {
  "kernelspec": {
   "display_name": "Python 3 (ipykernel)",
   "language": "python",
   "name": "python3"
  },
  "language_info": {
   "codemirror_mode": {
    "name": "ipython",
    "version": 3
   },
   "file_extension": ".py",
   "mimetype": "text/x-python",
   "name": "python",
   "nbconvert_exporter": "python",
   "pygments_lexer": "ipython3",
   "version": "3.10.9"
  }
 },
 "nbformat": 4,
 "nbformat_minor": 5
}
